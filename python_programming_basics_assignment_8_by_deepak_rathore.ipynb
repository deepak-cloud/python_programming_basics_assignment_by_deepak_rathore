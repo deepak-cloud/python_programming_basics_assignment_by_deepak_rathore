{
 "cells": [
  {
   "cell_type": "markdown",
   "metadata": {},
   "source": [
    "# Q1. Write a Python Program to Add Two Matrices ?\n",
    "\n",
    "## Solution:"
   ]
  },
  {
   "cell_type": "code",
   "execution_count": 3,
   "metadata": {},
   "outputs": [
    {
     "name": "stdout",
     "output_type": "stream",
     "text": [
      "[9, 10, 17]\n",
      "[9, 9, 17]\n",
      "[9, 8, 3]\n"
     ]
    }
   ],
   "source": [
    "\n",
    "x = [[5,3,15],\n",
    "    [6,7,9],\n",
    "    [2,5,2]]\n",
    "\n",
    "y = [[4,7,2],\n",
    "    [3,2,8],\n",
    "    [7,3,1]]\n",
    "\n",
    "res = [[0,0,0],\n",
    "       [0,0,0],\n",
    "       [0,0,0]]\n",
    "\n",
    "for i in range(len(x)):\n",
    "   \n",
    "   for j in range(len(x[0])):\n",
    "       res[i][j] = x[i][j] + y[i][j]\n",
    "\n",
    "for r in res:\n",
    "   print(r)"
   ]
  },
  {
   "cell_type": "markdown",
   "metadata": {},
   "source": [
    "# Q2. Write a Python Program to Multiply Two Matrices ?\n",
    "\n",
    "## Solution:"
   ]
  },
  {
   "cell_type": "code",
   "execution_count": 4,
   "metadata": {},
   "outputs": [
    {
     "name": "stdout",
     "output_type": "stream",
     "text": [
      "[232, 174, 127, 161]\n",
      "[143, 132, 74, 69]\n",
      "[109, 89, 59, 67]\n"
     ]
    }
   ],
   "source": [
    "\n",
    "# 3x3 matrix\n",
    "a = [[23, 5, 6],\n",
    "     [8, 9, 4],\n",
    "     [9, 4, 3]]\n",
    "\n",
    "# 3x4 matrix\n",
    "b = [[7, 4, 3, 6],\n",
    "     [7, 8, 2, 1],\n",
    "     [6, 7, 8, 3]]\n",
    "\n",
    "res = [[0, 0, 0, 0],\n",
    "       [0, 0, 0, 0],\n",
    "       [0, 0, 0, 0]]\n",
    "\n",
    "for i in range(len(a)):\n",
    "\n",
    "   \n",
    "     for j in range(len(b[0])):\n",
    "        for k in range(len(b)):\n",
    "            res[i][j] += a[i][k] * b[k][j]\n",
    "\n",
    "for r in res:\n",
    "    print(r)\n"
   ]
  },
  {
   "cell_type": "markdown",
   "metadata": {},
   "source": [
    "# Q3. Write a Python Program to Transpose a Matrix ?\n",
    "\n",
    "## Solution:"
   ]
  },
  {
   "cell_type": "code",
   "execution_count": 6,
   "metadata": {},
   "outputs": [
    {
     "name": "stdout",
     "output_type": "stream",
     "text": [
      "[45, 6, 7]\n",
      "[3, 8, 10]\n"
     ]
    }
   ],
   "source": [
    "\n",
    "x = [[45,3],\n",
    "    [6 ,8],\n",
    "    [7 ,10]]\n",
    "\n",
    "res = [[0,0,0],\n",
    "      [0,0,0]]\n",
    "\n",
    "\n",
    "for i in range(len(x)):\n",
    "   # iterate through columns\n",
    "   for j in range(len(x[0])):\n",
    "       res[j][i] = x[i][j]\n",
    "\n",
    "for r in res:\n",
    "   print(r)\n"
   ]
  },
  {
   "cell_type": "markdown",
   "metadata": {},
   "source": [
    "# Q4. Write a Python Program to Sort Words in Alphabetic Order ?\n",
    "\n",
    "## Solution: "
   ]
  },
  {
   "cell_type": "code",
   "execution_count": 10,
   "metadata": {},
   "outputs": [
    {
     "name": "stdout",
     "output_type": "stream",
     "text": [
      "Enter Words: this is a python program\n",
      "Sorted Words :\n",
      "A\n",
      "IS\n",
      "PROGRAM\n",
      "PYTHON\n",
      "THIS\n"
     ]
    }
   ],
   "source": [
    "my_str = input(\"Enter Words: \")\n",
    "\n",
    "words = [word.upper() for word in my_str.split()]\n",
    "\n",
    "words.sort()\n",
    "\n",
    "print(\"Sorted Words :\")\n",
    "for word in words:\n",
    "   print(word)\n"
   ]
  },
  {
   "cell_type": "markdown",
   "metadata": {},
   "source": [
    "# Q5. Write a Python Program to Remove Punctuation From a String ?\n",
    "\n",
    "## Solution:"
   ]
  },
  {
   "cell_type": "code",
   "execution_count": 12,
   "metadata": {},
   "outputs": [
    {
     "name": "stdout",
     "output_type": "stream",
     "text": [
      "Enter a string: Hoh! my god...\n",
      "Hoh my god\n"
     ]
    }
   ],
   "source": [
    "punctuation = '''!()-[]{};:'\"\\,<>./?@#$%^&*_~'''\n",
    "\n",
    "my_str = input(\"Enter a string: \")\n",
    "\n",
    "no_punct = \"\"\n",
    "for char in my_str:\n",
    "   if char not in punctuation:\n",
    "       no_punct = no_punct + char\n",
    "\n",
    "# String after punctuation removal\n",
    "print(no_punct)\n"
   ]
  },
  {
   "cell_type": "code",
   "execution_count": null,
   "metadata": {},
   "outputs": [],
   "source": []
  }
 ],
 "metadata": {
  "kernelspec": {
   "display_name": "Python 3",
   "language": "python",
   "name": "python3"
  },
  "language_info": {
   "codemirror_mode": {
    "name": "ipython",
    "version": 3
   },
   "file_extension": ".py",
   "mimetype": "text/x-python",
   "name": "python",
   "nbconvert_exporter": "python",
   "pygments_lexer": "ipython3",
   "version": "3.7.4"
  }
 },
 "nbformat": 4,
 "nbformat_minor": 2
}
