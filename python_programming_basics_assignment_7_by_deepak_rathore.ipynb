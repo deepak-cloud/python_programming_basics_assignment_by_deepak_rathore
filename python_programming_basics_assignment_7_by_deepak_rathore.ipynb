{
 "cells": [
  {
   "cell_type": "markdown",
   "metadata": {},
   "source": [
    "# Q1. Write a Python Program to find sum of array ?\n",
    "\n",
    "## Solution: "
   ]
  },
  {
   "cell_type": "code",
   "execution_count": 12,
   "metadata": {},
   "outputs": [
    {
     "name": "stdout",
     "output_type": "stream",
     "text": [
      "Sum of the array is  278\n"
     ]
    }
   ],
   "source": [
    "arr = []\n",
    "\n",
    "arr = [32, 45, 56, 67, 78]\n",
    "\n",
    "total = sum(arr)\n",
    "\n",
    "print ('Sum of the array is ',total)\n",
    "\n"
   ]
  },
  {
   "cell_type": "markdown",
   "metadata": {},
   "source": [
    "# Q2. Write a Python Program to find largest element in an array ?\n",
    "\n",
    "## Solution:"
   ]
  },
  {
   "cell_type": "code",
   "execution_count": 14,
   "metadata": {},
   "outputs": [
    {
     "name": "stdout",
     "output_type": "stream",
     "text": [
      "Array's largest element is:  183\n"
     ]
    }
   ],
   "source": [
    "def largest(arr,n):\n",
    "\n",
    "    max = arr[0]\n",
    "\n",
    "    for i in range(1, n):\n",
    "        if arr[i] > max:\n",
    "            max = arr[i]\n",
    "    return max\n",
    "\n",
    "arr = [97, 31, 59, 100, 183, 22, 11, 94]\n",
    "n = len(arr)\n",
    "lar = largest(arr,n)\n",
    "print (\"Array's largest element is: \",lar)\n",
    "\n"
   ]
  },
  {
   "cell_type": "markdown",
   "metadata": {},
   "source": [
    "# Q3. Write a Python Program for array rotation ?\n",
    "\n",
    "## Solution: "
   ]
  },
  {
   "cell_type": "code",
   "execution_count": 15,
   "metadata": {},
   "outputs": [
    {
     "name": "stdout",
     "output_type": "stream",
     "text": [
      "Intial array: \n",
      "22\n",
      "23\n",
      "24\n",
      "25\n",
      "26\n",
      "27\n",
      "\n",
      "After left rotation array: \n",
      "25\n",
      "26\n",
      "27\n",
      "22\n",
      "23\n",
      "24\n"
     ]
    }
   ],
   "source": [
    " \n",
    "arr = [22, 23, 24, 25, 26, 27];     \n",
    "# number of times to be rotated    \n",
    "n = 3;    \n",
    "     \n",
    "    \n",
    "print(\"Intial array: \");    \n",
    "for i in range(0, len(arr)):    \n",
    "    print(arr[i]),     \n",
    "     \n",
    "    \n",
    "for i in range(0, n):    \n",
    "        \n",
    "    first = arr[0];    \n",
    "        \n",
    "    for j in range(0, len(arr)-1):    \n",
    "            \n",
    "        arr[j] = arr[j+1];    \n",
    "            \n",
    "       \n",
    "    arr[len(arr)-1] = first;    \n",
    "     \n",
    "print()    \n",
    "     \n",
    "    \n",
    "print(\"After left rotation array: \");    \n",
    "for i in range(0, len(arr)):    \n",
    "    print(arr[i])"
   ]
  },
  {
   "cell_type": "markdown",
   "metadata": {},
   "source": [
    "# Q4. Write a Python Program to Split the array and add the first part to the end ?\n",
    "\n",
    "## Solution:"
   ]
  },
  {
   "cell_type": "code",
   "execution_count": 16,
   "metadata": {},
   "outputs": [
    {
     "name": "stdout",
     "output_type": "stream",
     "text": [
      "5 22 11 95 17 10 "
     ]
    }
   ],
   "source": [
    "def Arr_split(arr, n, k):\n",
    "    for i in range(0, k):\n",
    "        x = arr[0]\n",
    "        for j in range(0, n-1):\n",
    "            arr[j] = arr[j + 1]\n",
    "        arr[n-1] = x\n",
    "\n",
    "arr = [17, 10, 5, 22, 11, 95]\n",
    "n = len(arr)\n",
    "position = 2\n",
    "\n",
    "Arr_split(arr, n, position)\n",
    "\n",
    "for i in range(0, n):\n",
    "    print(arr[i], end = ' ')\n",
    "\n"
   ]
  },
  {
   "cell_type": "markdown",
   "metadata": {},
   "source": [
    "# Q5. Write a Python Program to check if given array is Monotonic ?\n",
    "\n",
    "## Solution:"
   ]
  },
  {
   "cell_type": "code",
   "execution_count": 17,
   "metadata": {},
   "outputs": [
    {
     "name": "stdout",
     "output_type": "stream",
     "text": [
      "True\n"
     ]
    }
   ],
   "source": [
    "def isMonotonic(A):\n",
    "   return (all(A[i] <= A[i + 1] for i in range(len(A) - 1)) or\n",
    "      all(A[i] >= A[i + 1] for i in range(len(A) - 1)))\n",
    "\n",
    "A = [7,8,9,11,12,13]\n",
    "print(isMonotonic(A))"
   ]
  },
  {
   "cell_type": "code",
   "execution_count": null,
   "metadata": {},
   "outputs": [],
   "source": []
  }
 ],
 "metadata": {
  "kernelspec": {
   "display_name": "Python 3",
   "language": "python",
   "name": "python3"
  },
  "language_info": {
   "codemirror_mode": {
    "name": "ipython",
    "version": 3
   },
   "file_extension": ".py",
   "mimetype": "text/x-python",
   "name": "python",
   "nbconvert_exporter": "python",
   "pygments_lexer": "ipython3",
   "version": "3.7.4"
  }
 },
 "nbformat": 4,
 "nbformat_minor": 2
}
