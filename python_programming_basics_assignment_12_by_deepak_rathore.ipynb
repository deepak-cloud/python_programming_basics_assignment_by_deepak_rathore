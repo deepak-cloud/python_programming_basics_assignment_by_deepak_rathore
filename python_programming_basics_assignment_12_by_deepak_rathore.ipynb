{
 "cells": [
  {
   "cell_type": "markdown",
   "metadata": {},
   "source": [
    "# Q1. Write a Python program to Extract Unique values dictionary values ?\n",
    "\n",
    "## Solution:"
   ]
  },
  {
   "cell_type": "code",
   "execution_count": 1,
   "metadata": {},
   "outputs": [
    {
     "name": "stdout",
     "output_type": "stream",
     "text": [
      "Intial dictionary : {'one': [10, 49, 61, 17], 'two': [5, 61, 49, 10], 'three': [87, 12, 49, 59], 'four': [49, 10, 61]}\n",
      "Values which are unique : [5, 10, 12, 17, 49, 59, 61, 87]\n"
     ]
    }
   ],
   "source": [
    "\n",
    "my_dict = {'one' : [10, 49, 61, 17], 'two' : [5, 61, 49, 10], 'three' : [87, 12, 49, 59], 'four' : [49, 10, 61]}\n",
    "\n",
    "\n",
    "print(\"Intial dictionary : \" + str(my_dict))\n",
    "\n",
    "result = list(sorted({element for value in my_dict.values() for element in value}))\n",
    "\n",
    "print(\"Values which are unique : \" + str(result))\n"
   ]
  },
  {
   "cell_type": "markdown",
   "metadata": {},
   "source": [
    "# Q2. Write a Python program to find the sum of all items in a dictionary ?\n",
    "\n",
    "## Solution:"
   ]
  },
  {
   "cell_type": "code",
   "execution_count": 2,
   "metadata": {},
   "outputs": [
    {
     "name": "stdout",
     "output_type": "stream",
     "text": [
      "Total is : 1434\n"
     ]
    }
   ],
   "source": [
    "def func_sum(my_dict):\n",
    "    sum = 0\n",
    "    for i in my_dict:\n",
    "        sum = sum + my_dict[i]\n",
    "    return sum\n",
    "\n",
    "\n",
    "dict_1 = {'x': 456, 'y':324, 'z':654}\n",
    "print(\"Total is :\", func_sum(dict_1))\n"
   ]
  },
  {
   "cell_type": "markdown",
   "metadata": {},
   "source": [
    "# Q3. Write a Python program to Merging two Dictionaries ?\n",
    "\n",
    "## Solution:"
   ]
  },
  {
   "cell_type": "code",
   "execution_count": 3,
   "metadata": {},
   "outputs": [
    {
     "name": "stdout",
     "output_type": "stream",
     "text": [
      "None\n",
      "{'p': 25, 'q': 56, 'x': 67, 'y': 82}\n"
     ]
    }
   ],
   "source": [
    "def func_merg(d_1, d_2):\n",
    "    return(d_2.update(d_1))\n",
    "d_1 = {'x': 67, 'y': 82}\n",
    "d_2 = {'p': 25, 'q': 56}\n",
    "\n",
    "print(func_merg(d_1, d_2))\n",
    "\n",
    "print(d_2)"
   ]
  },
  {
   "cell_type": "markdown",
   "metadata": {},
   "source": [
    "# Q4. Write a Python program to convert key-values list to flat dictionary ?\n",
    "\n",
    "## Solution:"
   ]
  },
  {
   "cell_type": "code",
   "execution_count": 4,
   "metadata": {},
   "outputs": [
    {
     "name": "stdout",
     "output_type": "stream",
     "text": [
      "Intial dictionary : {'weeks': [1, 2, 3], 'name': ['Sunday', 'Monday', 'Tuesday']}\n",
      "Dictionary which became flatened :  {1: 'Sunday', 2: 'Monday', 3: 'Tuesday'}\n"
     ]
    }
   ],
   "source": [
    "from itertools import product\n",
    "\n",
    "my_dict = {'weeks' : [1, 2, 3], 'name' : ['Sunday', 'Monday', 'Tuesday']}\n",
    "\n",
    "print(\"Intial dictionary : \" + str(my_dict))\n",
    "\n",
    "result = dict(zip(my_dict['weeks'], my_dict['name']))\n",
    "\n",
    "print(\"Dictionary which became flatened : \", str(result))\n"
   ]
  },
  {
   "cell_type": "markdown",
   "metadata": {},
   "source": [
    "# Q5. Write a Python program to insertion at the beginning in OrderedDict ?\n",
    "\n",
    "## Solution:"
   ]
  },
  {
   "cell_type": "code",
   "execution_count": 5,
   "metadata": {},
   "outputs": [
    {
     "name": "stdout",
     "output_type": "stream",
     "text": [
      "Resultant Dictionary : OrderedDict([('sunil', '3'), ('deepak', '1'), ('akash', '2')])\n"
     ]
    }
   ],
   "source": [
    "from collections import OrderedDict\n",
    "\n",
    "iniordered_dict = OrderedDict([('deepak', '1'), ('akash', '2')])\n",
    "\n",
    "iniordered_dict.update({'sunil':'3'})\n",
    "iniordered_dict.move_to_end('sunil', last = False)\n",
    "\n",
    "print (\"Resultant Dictionary : \"+str(iniordered_dict))\n"
   ]
  },
  {
   "cell_type": "markdown",
   "metadata": {},
   "source": [
    "# Q6. Write a Python program to check order of character in string using OrderedDict() ?\n",
    "\n",
    "## Solution:"
   ]
  },
  {
   "cell_type": "code",
   "execution_count": 9,
   "metadata": {},
   "outputs": [
    {
     "name": "stdout",
     "output_type": "stream",
     "text": [
      "true\n"
     ]
    }
   ],
   "source": [
    "from collections import OrderedDict\n",
    "\n",
    "def func_order(input, pattern):\n",
    "    dict = OrderedDict.fromkeys(input)\n",
    "    ptrlen = 0\n",
    "    for key,value in dict.items():\n",
    "        if (key == pattern[ptrlen]):\n",
    "            ptrlen = ptrlen + 1\n",
    "            if (ptrlen == (len(pattern))):\n",
    "                return 'true'\n",
    "    return 'false'\n",
    "\n",
    "if __name__ == \"__main__\":\n",
    "    input = 'python language'\n",
    "    pattern = 'ptl'\n",
    "    print (func_order(input,pattern))\n"
   ]
  },
  {
   "cell_type": "markdown",
   "metadata": {},
   "source": [
    "# Q7. Write a Python program to sort Python Dictionaries by Key or Value ?\n",
    "\n",
    "## Solution:"
   ]
  },
  {
   "cell_type": "code",
   "execution_count": 22,
   "metadata": {},
   "outputs": [
    {
     "name": "stdout",
     "output_type": "stream",
     "text": [
      "Keys are: \n",
      "1 2 3 4 5 6 "
     ]
    }
   ],
   "source": [
    "def dictionairy():\n",
    "    key_value ={}\n",
    "    key_value[5] = 3\n",
    "    key_value[3] = 7\n",
    "    key_value[1] = 89\n",
    "    key_value[4] = 90\n",
    "    key_value[6] = 234\n",
    "    key_value[2] = 146\n",
    "    print (\"Keys are: \")\n",
    "    \n",
    "    for i in sorted (key_value.keys()):\n",
    "        print(i, end = \" \")\n",
    "    \n",
    "    \n",
    "def main():\n",
    "    dictionairy()\n",
    "    \n",
    "if __name__==\"__main__\":\n",
    "    main()\n"
   ]
  },
  {
   "cell_type": "code",
   "execution_count": null,
   "metadata": {},
   "outputs": [],
   "source": []
  }
 ],
 "metadata": {
  "kernelspec": {
   "display_name": "Python 3",
   "language": "python",
   "name": "python3"
  },
  "language_info": {
   "codemirror_mode": {
    "name": "ipython",
    "version": 3
   },
   "file_extension": ".py",
   "mimetype": "text/x-python",
   "name": "python",
   "nbconvert_exporter": "python",
   "pygments_lexer": "ipython3",
   "version": "3.7.4"
  }
 },
 "nbformat": 4,
 "nbformat_minor": 2
}
