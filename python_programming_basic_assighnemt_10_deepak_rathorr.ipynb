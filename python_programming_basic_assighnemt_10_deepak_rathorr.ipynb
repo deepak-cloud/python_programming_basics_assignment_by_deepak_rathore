{
 "cells": [
  {
   "cell_type": "markdown",
   "metadata": {},
   "source": [
    "# Q1. Write a Python program to find sum of elements in list ?\n",
    "\n",
    "## Solution:"
   ]
  },
  {
   "cell_type": "code",
   "execution_count": 2,
   "metadata": {},
   "outputs": [
    {
     "name": "stdout",
     "output_type": "stream",
     "text": [
      "Sum of list:  213\n"
     ]
    }
   ],
   "source": [
    "\n",
    "tot = 0\n",
    "\n",
    "list_1 = [59, 25, 88, 34, 7]\n",
    "\n",
    "for element in range(0, len(list_1)):\n",
    "    tot = tot + list_1[element]\n",
    "\n",
    "\n",
    "print(\"Sum of list: \", tot)\n"
   ]
  },
  {
   "cell_type": "markdown",
   "metadata": {},
   "source": [
    "# Q2. Write a Python program to  Multiply all numbers in the list ?\n",
    "\n",
    "## Soluton:"
   ]
  },
  {
   "cell_type": "code",
   "execution_count": 4,
   "metadata": {},
   "outputs": [
    {
     "name": "stdout",
     "output_type": "stream",
     "text": [
      "120\n",
      "105\n"
     ]
    }
   ],
   "source": [
    "\n",
    "def multiplyList(myList) :\n",
    "    result = 1\n",
    "    for x in myList:\n",
    "        result = result * x\n",
    "    return result\n",
    "\n",
    "list1 = [4, 5, 6]\n",
    "list2 = [7, 5, 3]\n",
    "print(multiplyList(list1))\n",
    "print(multiplyList(list2))\n"
   ]
  },
  {
   "cell_type": "markdown",
   "metadata": {},
   "source": [
    "# Q3. Write a Python program to find smallest number in a list ?\n",
    "\n",
    "## Solution:"
   ]
  },
  {
   "cell_type": "code",
   "execution_count": 9,
   "metadata": {},
   "outputs": [
    {
     "name": "stdout",
     "output_type": "stream",
     "text": [
      "List's smallest element is: 1\n"
     ]
    }
   ],
   "source": [
    "list_1 = [69, 2, 100, 189, 1, 97]\n",
    "\n",
    "\n",
    "list_1.sort()\n",
    "\n",
    "print(\"List's smallest element is:\", *list_1[:1])\n"
   ]
  },
  {
   "cell_type": "markdown",
   "metadata": {},
   "source": [
    "# Q4. Write a Python program to find largest number in a list ?\n",
    "\n",
    "## Solution:"
   ]
  },
  {
   "cell_type": "code",
   "execution_count": 10,
   "metadata": {},
   "outputs": [
    {
     "name": "stdout",
     "output_type": "stream",
     "text": [
      "List's largest element is: 189\n"
     ]
    }
   ],
   "source": [
    "list_1 = [69, 2, 100, 189, 1, 97]\n",
    "\n",
    "# sorting the list\n",
    "list_1.sort()\n",
    "\n",
    "# printing the last element\n",
    "print(\"List's largest element is:\", list_1[-1])\n"
   ]
  },
  {
   "cell_type": "markdown",
   "metadata": {},
   "source": [
    "# Q5. Write a Python program to find second largest number in a list ?\n",
    "\n",
    "## Solution:"
   ]
  },
  {
   "cell_type": "code",
   "execution_count": 11,
   "metadata": {},
   "outputs": [
    {
     "name": "stdout",
     "output_type": "stream",
     "text": [
      "List's sencond largest number is :  100\n"
     ]
    }
   ],
   "source": [
    "list_1 = [69, 2, 100, 189, 1, 97]\n",
    "\n",
    "m=max(list_1[0],list_1[1])\n",
    "secondmax=min(list_1[0],list_1[1])\n",
    "n =len(list_1)\n",
    "for i in range(2,n):\n",
    "    if list_1[i]>m:\n",
    "        secondmax=m\n",
    "        m=list_1[i]\n",
    "    elif list_1[i] > secondmax and m != list_1[i]:\n",
    "        secondmax = list_1[i]\n",
    "\n",
    "print(\"List's sencond largest number is : \",str(secondmax))\n"
   ]
  },
  {
   "cell_type": "markdown",
   "metadata": {},
   "source": [
    "# Q6. Write a Python program to find N largest elements from a list ?\n",
    "## Solution:"
   ]
  },
  {
   "cell_type": "code",
   "execution_count": 15,
   "metadata": {},
   "outputs": [
    {
     "name": "stdout",
     "output_type": "stream",
     "text": [
      "[100, 89]\n"
     ]
    }
   ],
   "source": [
    "def element(list_1, N):\n",
    "    final_list = []\n",
    "\n",
    "    for i in range(0, N):\n",
    "        max_1 = 0\n",
    "        for j in range(len(list_1)):\n",
    "            if list_1[j] > max_1:\n",
    "                max_1 = list_1[j]\n",
    "        list_1.remove(max_1);\n",
    "        final_list.append(max_1)\n",
    "\n",
    "    print(final_list)\n",
    "\n",
    "# Driver code\n",
    "list_1 = [53, 8, 6, 34, 89, 3, 0, 29, 100]\n",
    "n = 2\n",
    "\n",
    "element(list_1, n)\n"
   ]
  },
  {
   "cell_type": "markdown",
   "metadata": {},
   "source": [
    "# Q7. Write a Python program to print even numbers in a list ?\n",
    "\n",
    "## Solution:"
   ]
  },
  {
   "cell_type": "code",
   "execution_count": 16,
   "metadata": {},
   "outputs": [
    {
     "name": "stdout",
     "output_type": "stream",
     "text": [
      "8 6 22 74 "
     ]
    }
   ],
   "source": [
    "list_1 = [8, 6, 27, 39, 22, 81, 74]\n",
    "\n",
    "for num in list_1:\n",
    "    if num % 2 == 0:\n",
    "        print(num, end = \" \")\n"
   ]
  },
  {
   "cell_type": "markdown",
   "metadata": {},
   "source": [
    "# Q8. Write a Python program to print odd numbers in a List ?\n",
    "\n",
    "## Solution:"
   ]
  },
  {
   "cell_type": "code",
   "execution_count": 17,
   "metadata": {},
   "outputs": [
    {
     "name": "stdout",
     "output_type": "stream",
     "text": [
      "27 39 81 "
     ]
    }
   ],
   "source": [
    "list_1 = [8, 6, 27, 39, 22, 81, 74]\n",
    "\n",
    "for num in list_1:\n",
    "    if num % 2 != 0:\n",
    "        print(num, end = \" \")\n"
   ]
  },
  {
   "cell_type": "markdown",
   "metadata": {},
   "source": [
    "# Q9. Write a Python program to Remove empty List from List ?\n",
    "\n",
    "## Solution:"
   ]
  },
  {
   "cell_type": "code",
   "execution_count": 18,
   "metadata": {},
   "outputs": [
    {
     "name": "stdout",
     "output_type": "stream",
     "text": [
      "Intial list : [8, [], 54, [], 90, [], 85, []]\n",
      "List after empty list removal : [8, 54, 90, 85]\n"
     ]
    }
   ],
   "source": [
    "test_list = [8, [], 54, [], 90, [], 85, []]\n",
    "\n",
    "print(\"Intial list : \" + str(test_list))\n",
    "\n",
    "res = [element for element in test_list if element != []]\n",
    "\n",
    "print (\"List after empty list removal : \" + str(res))\n"
   ]
  },
  {
   "cell_type": "markdown",
   "metadata": {},
   "source": [
    "# Q10. Write a Python program to Cloning or Copying a list ?\n",
    "\n",
    "## Solution:"
   ]
  },
  {
   "cell_type": "code",
   "execution_count": 20,
   "metadata": {},
   "outputs": [
    {
     "name": "stdout",
     "output_type": "stream",
     "text": [
      "Intial list: [56, 78, 34, 2, 77, 3, 7, 89, 4]\n",
      "After clon: [56, 78, 34, 2, 77, 3, 7, 89, 4]\n"
     ]
    }
   ],
   "source": [
    "\n",
    "def clon(list_1):\n",
    "    list_copy = list_1[:]\n",
    "    return list_copy\n",
    "\n",
    "list_1 = [56, 78, 34, 2, 77, 3, 7, 89, 4]\n",
    "list_2 = clon(list_1)\n",
    "print(\"Intial list:\", list_1)\n",
    "print(\"After clon:\", list_2)\n"
   ]
  },
  {
   "cell_type": "markdown",
   "metadata": {},
   "source": [
    "# 11. Write a Python program to Count occurrences of an element in a list ?\n",
    "\n",
    "## Solution:"
   ]
  },
  {
   "cell_type": "code",
   "execution_count": 22,
   "metadata": {},
   "outputs": [
    {
     "name": "stdout",
     "output_type": "stream",
     "text": [
      "23 is occurred 4 times\n"
     ]
    }
   ],
   "source": [
    "def count_x(list_1, x):\n",
    "    count = 0\n",
    "    for ele in list_1:\n",
    "        if (ele == x):\n",
    "            count = count + 1\n",
    "    return count\n",
    "\n",
    "list_1 = [45, 23, 89, 36, 89, 23, 36, 23, 45, 23]\n",
    "x = 23\n",
    "print('{} is occurred {} times'.format(x, count_x(list_1, x)))\n"
   ]
  },
  {
   "cell_type": "code",
   "execution_count": null,
   "metadata": {},
   "outputs": [],
   "source": []
  },
  {
   "cell_type": "markdown",
   "metadata": {},
   "source": [
    "# Assignment Completed !!"
   ]
  }
 ],
 "metadata": {
  "kernelspec": {
   "display_name": "Python 3",
   "language": "python",
   "name": "python3"
  },
  "language_info": {
   "codemirror_mode": {
    "name": "ipython",
    "version": 3
   },
   "file_extension": ".py",
   "mimetype": "text/x-python",
   "name": "python",
   "nbconvert_exporter": "python",
   "pygments_lexer": "ipython3",
   "version": "3.7.4"
  }
 },
 "nbformat": 4,
 "nbformat_minor": 2
}
