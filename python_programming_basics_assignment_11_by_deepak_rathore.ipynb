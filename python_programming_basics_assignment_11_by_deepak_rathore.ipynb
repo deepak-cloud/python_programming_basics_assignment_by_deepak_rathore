{
 "cells": [
  {
   "cell_type": "markdown",
   "metadata": {},
   "source": [
    "# Q1.Write a Python program to find words which are greater than given length k ?\n",
    "\n",
    "## Solution:"
   ]
  },
  {
   "cell_type": "code",
   "execution_count": 8,
   "metadata": {},
   "outputs": [
    {
     "name": "stdout",
     "output_type": "stream",
     "text": [
      "['This', 'python', 'language']\n"
     ]
    }
   ],
   "source": [
    "\n",
    "def k_string(k, str):\n",
    "\n",
    "\n",
    "    string = []\n",
    "\n",
    "    \n",
    "    text = str.split(\" \")\n",
    "\n",
    "\n",
    "    for x in text:\n",
    "        if len(x) > k:\n",
    "            string.append(x)\n",
    "    return string\n",
    "\n",
    "\n",
    "k = 3\n",
    "str =\"This is a python language\"\n",
    "print(k_string(k, str))\n"
   ]
  },
  {
   "cell_type": "markdown",
   "metadata": {},
   "source": [
    "# Q2. Write a Python program for removing i-th character from a string ?\n",
    "\n",
    "## Solution:"
   ]
  },
  {
   "cell_type": "code",
   "execution_count": 7,
   "metadata": {},
   "outputs": [
    {
     "name": "stdout",
     "output_type": "stream",
     "text": [
      "This is  python language\n"
     ]
    }
   ],
   "source": [
    "def eliminate(string, i):\n",
    "\n",
    "    x = string[ : i]\n",
    "    y = string[i + 1: ]\n",
    "    return x + y\n",
    "\n",
    "if __name__ == '__main__':\n",
    "\n",
    "    string = \"This is a python language\"\n",
    "    i = 8\n",
    "    print(eliminate(string, i))\n"
   ]
  },
  {
   "cell_type": "markdown",
   "metadata": {},
   "source": [
    "# Q3. Write a Python program to split and join a string ?\n",
    "\n",
    "## Solution:"
   ]
  },
  {
   "cell_type": "code",
   "execution_count": 9,
   "metadata": {},
   "outputs": [
    {
     "name": "stdout",
     "output_type": "stream",
     "text": [
      "['This', 'is', 'a', 'python', 'language']\n",
      "This-is-a-python-language\n"
     ]
    }
   ],
   "source": [
    "def splitting(string):\n",
    "    list_string = string.split(' ')\n",
    "    return list_string\n",
    "\n",
    "def joinning(list_string):\n",
    "    string = '-'.join(list_string)\n",
    "    return string\n",
    "\n",
    "if __name__ == '__main__':\n",
    "    string = 'This is a python language'\n",
    "\n",
    "    list_string = splitting(string)\n",
    "    print(list_string)\n",
    "    new_string = joinning(list_string)\n",
    "    print(new_string)\n"
   ]
  },
  {
   "cell_type": "markdown",
   "metadata": {},
   "source": [
    "# Q4. Write a Python to check if a given string is binary string or not ?\n",
    "\n",
    "## Solution:"
   ]
  },
  {
   "cell_type": "code",
   "execution_count": 11,
   "metadata": {},
   "outputs": [
    {
     "name": "stdout",
     "output_type": "stream",
     "text": [
      "Yes\n"
     ]
    }
   ],
   "source": [
    "def check(string) :\n",
    "\n",
    "    a = set(string)\n",
    "    b = {'0', '1'}\n",
    "    if a == b or b == {'0'} or b == {'1'}:\n",
    "        print(\"Yes\")\n",
    "    else :\n",
    "        print(\"No\")\n",
    "\n",
    "if __name__ == \"__main__\" :\n",
    "\n",
    "    string = \"101010000111\"\n",
    "    check(string)\n"
   ]
  },
  {
   "cell_type": "markdown",
   "metadata": {},
   "source": [
    "# Q5. Write a Python program to find uncommon words from two Strings ?\n",
    "\n",
    "## Solution:"
   ]
  },
  {
   "cell_type": "code",
   "execution_count": 14,
   "metadata": {},
   "outputs": [
    {
     "name": "stdout",
     "output_type": "stream",
     "text": [
      "['Deep', 'is', 'a', 'subset', 'of']\n"
     ]
    }
   ],
   "source": [
    "\n",
    "def unmatched(A, B):\n",
    "    count = {}\n",
    "    for word in A.split():\n",
    "        count[word] = count.get(word, 0) + 1\n",
    "\n",
    "    for word in B.split():\n",
    "        count[word] = count.get(word, 0) + 1\n",
    "    return [word for word in count if count[word] == 1]\n",
    "\n",
    "x = \"Machine learning\"\n",
    "y = \"Deep learning is a subset of Machine learning\"\n",
    "\n",
    "print(unmatched(x, y))\n"
   ]
  },
  {
   "cell_type": "markdown",
   "metadata": {},
   "source": [
    "# Q6. Write a Python to find all duplicate characters in string ?\n",
    "\n",
    "## Solution:"
   ]
  },
  {
   "cell_type": "code",
   "execution_count": 1,
   "metadata": {},
   "outputs": [
    {
     "name": "stdout",
     "output_type": "stream",
     "text": [
      "Given string duplicate characters: \n",
      "e\n",
      "l\n",
      "a\n",
      "r\n",
      "n\n",
      "i\n",
      "g\n",
      "s\n"
     ]
    }
   ],
   "source": [
    "string = \"Deep learning is a subset of Machine learning\";  \n",
    "   \n",
    "print(\"Given string duplicate characters: \");  \n",
    "\n",
    "for i in range(0, len(string)):  \n",
    "    count = 1;  \n",
    "    for j in range(i+1, len(string)):  \n",
    "        if(string[i] == string[j] and string[i] != ' '):  \n",
    "            count = count + 1;  \n",
    "            string = string[:j] + '0' + string[j+1:];  \n",
    "     \n",
    "    if(count > 1 and string[i] != '0'):  \n",
    "        print(string[i]);"
   ]
  },
  {
   "cell_type": "markdown",
   "metadata": {},
   "source": [
    "# Q7. Write a Python Program to check if a string contains any special character ?\n",
    "\n",
    "## Solution:"
   ]
  },
  {
   "cell_type": "code",
   "execution_count": 4,
   "metadata": {},
   "outputs": [
    {
     "name": "stdout",
     "output_type": "stream",
     "text": [
      "Non-acceptable string\n"
     ]
    }
   ],
   "source": [
    "import re\n",
    "\n",
    "def run(string):\n",
    "\n",
    "    regex = re.compile('[@_!#$%^&*()<>?/\\|}{~:]')\n",
    "\n",
    "    if(regex.search(string) == None):\n",
    "        print(\"Acceptable string\")\n",
    "    else:\n",
    "        print(\"Non-acceptable string\")\n",
    "\n",
    "if __name__ == '__main__' :\n",
    "    string = \"Alas! i couldn't keep her long as i wished\"\n",
    "    run(string)\n"
   ]
  },
  {
   "cell_type": "code",
   "execution_count": null,
   "metadata": {},
   "outputs": [],
   "source": []
  },
  {
   "cell_type": "markdown",
   "metadata": {},
   "source": [
    "# Assignment Completed !!"
   ]
  }
 ],
 "metadata": {
  "kernelspec": {
   "display_name": "Python 3",
   "language": "python",
   "name": "python3"
  },
  "language_info": {
   "codemirror_mode": {
    "name": "ipython",
    "version": 3
   },
   "file_extension": ".py",
   "mimetype": "text/x-python",
   "name": "python",
   "nbconvert_exporter": "python",
   "pygments_lexer": "ipython3",
   "version": "3.7.4"
  }
 },
 "nbformat": 4,
 "nbformat_minor": 2
}
