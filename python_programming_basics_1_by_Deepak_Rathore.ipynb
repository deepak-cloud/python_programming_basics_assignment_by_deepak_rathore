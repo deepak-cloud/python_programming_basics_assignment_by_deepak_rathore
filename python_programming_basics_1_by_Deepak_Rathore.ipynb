{
 "cells": [
  {
   "cell_type": "markdown",
   "metadata": {},
   "source": [
    "# Q1. Write a Python program to print \"Hello Python\" ?\n",
    "\n",
    "## Solution:"
   ]
  },
  {
   "cell_type": "code",
   "execution_count": 2,
   "metadata": {},
   "outputs": [
    {
     "name": "stdout",
     "output_type": "stream",
     "text": [
      "Hello Python\n"
     ]
    }
   ],
   "source": [
    "a = \"Hello Python\"\n",
    "print(a)"
   ]
  },
  {
   "cell_type": "markdown",
   "metadata": {},
   "source": [
    "# Q2. Write a Python program to do arithmetical operations addition and division ?\n",
    "\n",
    "## Solution:"
   ]
  },
  {
   "cell_type": "code",
   "execution_count": 9,
   "metadata": {},
   "outputs": [
    {
     "name": "stdout",
     "output_type": "stream",
     "text": [
      "Enter the a value: 10\n",
      "Enter the b value: 2\n",
      "Enter the opration modulus: /\n",
      "Output is:  5.0\n"
     ]
    }
   ],
   "source": [
    "a = int(input(\"Enter the a value: \"))\n",
    "b = int(input(\"Enter the b value: \"))\n",
    "opt = input(\"Enter the operation operator: \")\n",
    "output = 0\n",
    "if opt == \"+\":\n",
    "    output = a+b\n",
    "    print(\"Output is: \", output)\n",
    "elif opt == \"/\":\n",
    "    output = a/b \n",
    "    print(\"Output is: \", output)\n",
    "else:\n",
    "    print(\"Invalid output!!\")\n",
    "\n"
   ]
  },
  {
   "cell_type": "markdown",
   "metadata": {},
   "source": [
    "# Q3. Write a Python program to find the area of a triangle ?\n",
    "\n",
    "## Solution:"
   ]
  },
  {
   "cell_type": "code",
   "execution_count": 19,
   "metadata": {},
   "outputs": [
    {
     "name": "stdout",
     "output_type": "stream",
     "text": [
      "Enter the Ist side of a triangle: 42\n",
      "Enter the IInd side of a triangle: 44\n",
      "Enter the IIIrd side of a triangle: 46\n",
      "\n",
      "Triangle's perimeter = 132.00\n",
      "Triangle's Semi perimeter = 66.00\n",
      "Triangle's area 834.84\n"
     ]
    }
   ],
   "source": [
    "a = float(input('Enter the Ist side of a triangle: '))\n",
    "b = float(input('Enter the IInd side of a triangle: '))\n",
    "c = float(input('Enter the IIIrd side of a triangle: '))\n",
    "\n",
    "# calculate the Perimeter\n",
    "perimeter = a + b + c\n",
    "\n",
    "# calculate the semi-perimeter\n",
    "s = (a + b + c) / 2\n",
    "\n",
    "# calculate the area\n",
    "area = (s*(s-a)*(s-b)*(s-c)) ** 0.5\n",
    "\n",
    "print(\"\\nTriangle's perimeter = %.2f\" %perimeter);\n",
    "print(\"Triangle's Semi perimeter = %.2f\" %s);\n",
    "print(\"Triangle's area %0.2f\" %area)"
   ]
  },
  {
   "cell_type": "markdown",
   "metadata": {},
   "source": [
    "# Q4. Write a Python program to swap two variables ?\n",
    "\n",
    "## Solution:"
   ]
  },
  {
   "cell_type": "code",
   "execution_count": 14,
   "metadata": {},
   "outputs": [
    {
     "name": "stdout",
     "output_type": "stream",
     "text": [
      "The value of a after swapping: 10\n",
      "The value of b after swapping: 5\n"
     ]
    }
   ],
   "source": [
    "a = 5\n",
    "b = 10\n",
    "\n",
    "# Swap\n",
    "temp = a\n",
    "a = b\n",
    "b = temp\n",
    "\n",
    "print('The value of a after swapping: {}'.format(a))\n",
    "print('The value of b after swapping: {}'.format(b))\n"
   ]
  },
  {
   "cell_type": "markdown",
   "metadata": {},
   "source": [
    "# Q5. Write a Python program to generate a random number ?\n",
    "\n",
    "## Solution:"
   ]
  },
  {
   "cell_type": "code",
   "execution_count": 17,
   "metadata": {},
   "outputs": [
    {
     "name": "stdout",
     "output_type": "stream",
     "text": [
      "50\n"
     ]
    }
   ],
   "source": [
    "# importing the random module\n",
    "\n",
    "import random\n",
    "\n",
    "print(random.randint(0,100))\n"
   ]
  },
  {
   "cell_type": "code",
   "execution_count": null,
   "metadata": {},
   "outputs": [],
   "source": []
  },
  {
   "cell_type": "markdown",
   "metadata": {},
   "source": [
    "# Assignment Completed !!"
   ]
  }
 ],
 "metadata": {
  "kernelspec": {
   "display_name": "Python 3",
   "language": "python",
   "name": "python3"
  },
  "language_info": {
   "codemirror_mode": {
    "name": "ipython",
    "version": 3
   },
   "file_extension": ".py",
   "mimetype": "text/x-python",
   "name": "python",
   "nbconvert_exporter": "python",
   "pygments_lexer": "ipython3",
   "version": "3.7.4"
  }
 },
 "nbformat": 4,
 "nbformat_minor": 2
}
